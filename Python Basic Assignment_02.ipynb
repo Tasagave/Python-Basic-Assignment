{
 "cells": [
  {
   "cell_type": "code",
   "execution_count": null,
   "id": "f95c74fe",
   "metadata": {},
   "outputs": [],
   "source": [
    "#1. What are the two values of the Boolean data type? How do you write them?\n",
    "   True(T) and false(F)"
   ]
  },
  {
   "cell_type": "code",
   "execution_count": null,
   "id": "5855fe94",
   "metadata": {},
   "outputs": [],
   "source": [
    "#2. What are the three different types of Boolean operators?\n",
    "   AND, OR & NOT"
   ]
  },
  {
   "cell_type": "code",
   "execution_count": null,
   "id": "133a06c3",
   "metadata": {},
   "outputs": [],
   "source": [
    "#3. Make a list of each Boolean operator's truth tables (i.e. every possible combination of Boolean values for the operator and what it evaluate ).\n",
    "\n",
    "   True and True is True\n",
    "\n",
    "   True and False is False\n",
    "\n",
    "   False and True is False\n",
    "\n",
    "   False and False is False\n",
    "\n",
    "   True or True is True\n",
    "\n",
    "   True or False is True\n",
    "\n",
    "   False or True is True\n",
    "\n",
    "   False or False is False\n",
    "\n",
    "   not True is False\n",
    "\n",
    "   not False is True"
   ]
  },
  {
   "cell_type": "code",
   "execution_count": null,
   "id": "2ee13bc7",
   "metadata": {},
   "outputs": [],
   "source": [
    "#4. What are the values of the following expressions?\n",
    "\n",
    "   (5 > 4) and (3 == 5) : False\n",
    "        \n",
    "   not (5 > 4) : False\n",
    "    \n",
    "   (5 > 4) or (3 == 5) : True\n",
    "    \n",
    "   not ((5 > 4) or (3 == 5)) : False\n",
    "    \n",
    "   (True and True) and (True == False) : False\n",
    "    \n",
    "   (not False) or (not True) : True"
   ]
  },
  {
   "cell_type": "code",
   "execution_count": null,
   "id": "5870b4d8",
   "metadata": {},
   "outputs": [],
   "source": [
    "#5. What are the six comparison operators?\n",
    "\n",
    "    1. Less than ( < )\n",
    "    2. Less than or equal to (<=)\n",
    "    3. Greater than (>)\n",
    "    4. Greater than or equal to (>=)\n",
    "    5. Equal to ( == )\n",
    "    6. Not equal to ( != )"
   ]
  },
  {
   "cell_type": "code",
   "execution_count": null,
   "id": "71862ea3",
   "metadata": {},
   "outputs": [],
   "source": [
    "#6. How do you tell the difference between the equal to and assignment operators? Describe a condition and when you would use one.\n",
    "\n",
    "   The assignment operator( = ) is used to assign the value on the right to the variable on the left.\n",
    "    \n",
    "   (Ex: a=10, b= \"sudh\")\n",
    "\n",
    "   The Equal to operator(==) checks whether the two given operands are equal or not. If so, it returns TRUE, otherwise it returns to FALSE.\n",
    "\n",
    "    (Ex:  10==10. this will return TRUE, 5==10 this will return FALSE)"
   ]
  },
  {
   "cell_type": "code",
   "execution_count": null,
   "id": "35b6fccf",
   "metadata": {},
   "outputs": [],
   "source": [
    "#7. Identify the three blocks in this code:\n",
    "\n",
    "spam = 0\n",
    "if spam == 10:\n",
    "    print('eggs')           # indent increased, block A\n",
    "    if spam > 5:            # still block A\n",
    "        print('bacon')      # still block A, indent increased, block B inside block A\n",
    "    else:                   # still block A, indent decreased, block B ended in line above\n",
    "        print('ham')        # still block A, indent increased, block C inside block A\n",
    "    print('spam')           # still block A, indent decreased, block C ended in line above\n",
    "print('spam')               # indent decreased, block A ended in line above"
   ]
  },
  {
   "cell_type": "code",
   "execution_count": 4,
   "id": "45f0b0bd",
   "metadata": {},
   "outputs": [
    {
     "name": "stdout",
     "output_type": "stream",
     "text": [
      "8\n",
      "Greetings\n"
     ]
    }
   ],
   "source": [
    "#8. Write code that prints Hello if 1 is stored in spam, prints Howdy if 2 is stored in spam, and prints Greetings! if anything else is stored in spam.\n",
    "\n",
    "spam=int(input())\n",
    "if spam == 1:\n",
    "    print('Hello')\n",
    "elif spam == 2:\n",
    "    print('howdy')\n",
    "else:\n",
    "    print('Greetings')"
   ]
  },
  {
   "cell_type": "code",
   "execution_count": null,
   "id": "2fad7eba",
   "metadata": {},
   "outputs": [],
   "source": [
    "#9.If your programme is stuck in an endless loop, what keys you’ll press?\n",
    "\n",
    "  Interrupt the kernal"
   ]
  },
  {
   "cell_type": "code",
   "execution_count": null,
   "id": "083d3ab8",
   "metadata": {},
   "outputs": [],
   "source": [
    "#10. How can you tell the difference between break and continue?\n",
    "\n",
    "   The Break statement is used to exit from the loop constructs.\n",
    "   The continue statement is not used to exit from the loop constructs.\n",
    "   The break statement is usually used with the switch statement, and it can also use it within the while loop, do-while loop, or the for-loop.\n",
    "   The continue statement is not used with the switch statement, but it can be used within the while loop, do-while loop, or for-loop.\n",
    "   When a break statement is encountered then the control is exited from the loop construct immediately.\n",
    "   When the continue statement is encountered then the control automatically passed from the beginning of the loop statement.\n",
    "\n",
    "   Syntax:\n",
    "    break;\n",
    "\n",
    "    continue;"
   ]
  },
  {
   "cell_type": "code",
   "execution_count": 6,
   "id": "416a3da3",
   "metadata": {},
   "outputs": [
    {
     "name": "stdout",
     "output_type": "stream",
     "text": [
      "0\n",
      "1\n",
      "2\n",
      "3\n",
      "4\n",
      "5\n",
      "6\n",
      "7\n",
      "8\n",
      "9\n"
     ]
    }
   ],
   "source": [
    "#11. In a for loop, what is the difference between range(10), range(0, 10), and range(0, 10, 1)?\n",
    "\n",
    "#   Output for all statements are same,as follows.\n",
    "\n",
    "#1. range(10)\n",
    "for i in range(10):\n",
    "    print(i)"
   ]
  },
  {
   "cell_type": "code",
   "execution_count": 9,
   "id": "03bca4ac",
   "metadata": {},
   "outputs": [
    {
     "name": "stdout",
     "output_type": "stream",
     "text": [
      "0\n",
      "1\n",
      "2\n",
      "3\n",
      "4\n",
      "5\n",
      "6\n",
      "7\n",
      "8\n",
      "9\n"
     ]
    }
   ],
   "source": [
    "#2. range(0, 10)\n",
    "for i in range(0,10):\n",
    "    print(i)"
   ]
  },
  {
   "cell_type": "code",
   "execution_count": 10,
   "id": "d9db4812",
   "metadata": {},
   "outputs": [
    {
     "name": "stdout",
     "output_type": "stream",
     "text": [
      "0\n",
      "1\n",
      "2\n",
      "3\n",
      "4\n",
      "5\n",
      "6\n",
      "7\n",
      "8\n",
      "9\n"
     ]
    }
   ],
   "source": [
    "#3. range(0, 10, 1)\n",
    "for i in range(0,10,1):\n",
    "    print(i)"
   ]
  },
  {
   "cell_type": "code",
   "execution_count": 11,
   "id": "b0887c14",
   "metadata": {},
   "outputs": [
    {
     "name": "stdout",
     "output_type": "stream",
     "text": [
      "1\n",
      "2\n",
      "3\n",
      "4\n",
      "5\n",
      "6\n",
      "7\n",
      "8\n",
      "9\n",
      "10\n"
     ]
    }
   ],
   "source": [
    "#12. Write a short program that prints the numbers 1 to 10 using a for loop, Then write an equivalent program that prints the numbers 1 to 10 using a while loop\n",
    "\n",
    "a=[1,2,3,4,5,6,7,8,9,10]\n",
    "for i in a:\n",
    "    print(i)"
   ]
  },
  {
   "cell_type": "code",
   "execution_count": 12,
   "id": "da176e20",
   "metadata": {},
   "outputs": [
    {
     "name": "stdout",
     "output_type": "stream",
     "text": [
      "1\n",
      "2\n",
      "3\n",
      "4\n",
      "5\n",
      "6\n",
      "7\n",
      "8\n",
      "9\n",
      "10\n"
     ]
    }
   ],
   "source": [
    "# Then write an equivalent program that prints the numbers 1 to 10 using a while loop.\n",
    "a=1\n",
    "while a<11:\n",
    "    print(a)\n",
    "    a=a+1"
   ]
  },
  {
   "cell_type": "code",
   "execution_count": null,
   "id": "eb1407ba",
   "metadata": {},
   "outputs": [],
   "source": [
    "#13. If you had a function named bacon() inside a module named spam, how would you call it after importing spam?\n",
    "\n",
    "    This function can be called with spam.bacon()"
   ]
  }
 ],
 "metadata": {
  "kernelspec": {
   "display_name": "Python 3 (ipykernel)",
   "language": "python",
   "name": "python3"
  },
  "language_info": {
   "codemirror_mode": {
    "name": "ipython",
    "version": 3
   },
   "file_extension": ".py",
   "mimetype": "text/x-python",
   "name": "python",
   "nbconvert_exporter": "python",
   "pygments_lexer": "ipython3",
   "version": "3.9.7"
  }
 },
 "nbformat": 4,
 "nbformat_minor": 5
}
