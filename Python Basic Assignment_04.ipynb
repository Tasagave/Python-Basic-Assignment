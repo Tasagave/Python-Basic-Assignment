{
 "cells": [
  {
   "cell_type": "code",
   "execution_count": null,
   "id": "aa2fde55",
   "metadata": {},
   "outputs": [],
   "source": [
    "#1. What exactly is []?\n",
    "    empty List"
   ]
  },
  {
   "cell_type": "code",
   "execution_count": 3,
   "id": "41a51701",
   "metadata": {},
   "outputs": [],
   "source": [
    "#2. In a list of values stored in a variable called spam, how would you assign the value 'hello' as the third value?\n",
    "#   (Assume [2, 4, 6, 8, 10] are in spam.)\n",
    "#   Let's pretend the spam includes the list ['a', 'b', 'c', 'd'] for the next three queries.\n",
    "\n",
    "spam=[2, 4, 6, 8, 10]\n",
    "spam[2] = 'hello'"
   ]
  },
  {
   "cell_type": "code",
   "execution_count": 4,
   "id": "4de58373",
   "metadata": {},
   "outputs": [
    {
     "data": {
      "text/plain": [
       "'hello'"
      ]
     },
     "execution_count": 4,
     "metadata": {},
     "output_type": "execute_result"
    }
   ],
   "source": [
    "spam[2]"
   ]
  },
  {
   "cell_type": "code",
   "execution_count": 5,
   "id": "3391269f",
   "metadata": {},
   "outputs": [
    {
     "data": {
      "text/plain": [
       "'d'"
      ]
     },
     "execution_count": 5,
     "metadata": {},
     "output_type": "execute_result"
    }
   ],
   "source": [
    "#3. What is the value of spam[int(int('3' * 2) / 11)]?\n",
    "\n",
    "spam=['a', 'b', 'c', 'd']\n",
    "spam[int(int('3' * 2) / 11)]"
   ]
  },
  {
   "cell_type": "code",
   "execution_count": 6,
   "id": "2435c54f",
   "metadata": {},
   "outputs": [
    {
     "data": {
      "text/plain": [
       "'d'"
      ]
     },
     "execution_count": 6,
     "metadata": {},
     "output_type": "execute_result"
    }
   ],
   "source": [
    "#4. What is the value of spam[-1]?\n",
    "\n",
    "spam[-1]"
   ]
  },
  {
   "cell_type": "code",
   "execution_count": 7,
   "id": "652d5115",
   "metadata": {},
   "outputs": [
    {
     "data": {
      "text/plain": [
       "['a', 'b']"
      ]
     },
     "execution_count": 7,
     "metadata": {},
     "output_type": "execute_result"
    }
   ],
   "source": [
    "#5. What is the value of spam[:2]?\n",
    "#   Let's pretend bacon has the list [3.14, 'cat', 11, 'cat', True] for the next three questions.\n",
    "spam[:2]"
   ]
  },
  {
   "cell_type": "code",
   "execution_count": 8,
   "id": "88f1e0ba",
   "metadata": {},
   "outputs": [
    {
     "data": {
      "text/plain": [
       "1"
      ]
     },
     "execution_count": 8,
     "metadata": {},
     "output_type": "execute_result"
    }
   ],
   "source": [
    "#6. What is the value of bacon.index('cat')?\n",
    "bacon=[3.14, 'cat', 11, 'cat', True]\n",
    "bacon.index('cat')"
   ]
  },
  {
   "cell_type": "code",
   "execution_count": 9,
   "id": "1e3c21e1",
   "metadata": {},
   "outputs": [
    {
     "data": {
      "text/plain": [
       "[3.14, 'cat', 11, 'cat', True]"
      ]
     },
     "execution_count": 9,
     "metadata": {},
     "output_type": "execute_result"
    }
   ],
   "source": [
    "bacon"
   ]
  },
  {
   "cell_type": "code",
   "execution_count": 13,
   "id": "e93940fb",
   "metadata": {},
   "outputs": [
    {
     "data": {
      "text/plain": [
       "[3.14, 11, 'cat', True, 99, 99]"
      ]
     },
     "execution_count": 13,
     "metadata": {},
     "output_type": "execute_result"
    }
   ],
   "source": [
    "#7. How does bacon.append(99) change the look of the list value in bacon?\n",
    "bacon.append(99)\n",
    "bacon"
   ]
  },
  {
   "cell_type": "code",
   "execution_count": 14,
   "id": "23776142",
   "metadata": {},
   "outputs": [
    {
     "data": {
      "text/plain": [
       "[3.14, 11, 'cat', True, 99, 99]"
      ]
     },
     "execution_count": 14,
     "metadata": {},
     "output_type": "execute_result"
    }
   ],
   "source": [
    "bacon"
   ]
  },
  {
   "cell_type": "code",
   "execution_count": 15,
   "id": "11b3d0b8",
   "metadata": {},
   "outputs": [
    {
     "data": {
      "text/plain": [
       "[3.14, 11, True, 99, 99]"
      ]
     },
     "execution_count": 15,
     "metadata": {},
     "output_type": "execute_result"
    }
   ],
   "source": [
    "#8. How does bacon.remove('cat') change the look of the list in bacon?\n",
    "bacon.remove('cat')\n",
    "bacon"
   ]
  },
  {
   "cell_type": "code",
   "execution_count": null,
   "id": "b08dcf32",
   "metadata": {},
   "outputs": [],
   "source": [
    "#9. What are the list concatenation and list replication operators?\n",
    "    The operator for list concatenation is +, while the operator for replication is *."
   ]
  },
  {
   "cell_type": "code",
   "execution_count": null,
   "id": "4fca3739",
   "metadata": {},
   "outputs": [],
   "source": [
    "#10. What is difference between the list methods append() and insert()?\n",
    "     While append() will add values only to the end of a list. \n",
    "     insert() can add them anywhere in the list."
   ]
  },
  {
   "cell_type": "code",
   "execution_count": null,
   "id": "df1dbf7b",
   "metadata": {},
   "outputs": [],
   "source": [
    "#11. What are the two methods for removing items from a list?\n",
    "     The del statement and the remove() list method are two ways to remove values from a list."
   ]
  },
  {
   "cell_type": "code",
   "execution_count": null,
   "id": "cd1942f2",
   "metadata": {},
   "outputs": [],
   "source": [
    "#12. Describe how list values and string values are identical.\n",
    "     Both lists and strings can be passed to len(), have indexes and slices, be used in for loops,\n",
    "     be concatenated or replicated."
   ]
  },
  {
   "cell_type": "code",
   "execution_count": null,
   "id": "179dcb07",
   "metadata": {},
   "outputs": [],
   "source": [
    "# 13. What's the difference between tuples and lists?\n",
    "     Lists are mutable; they can have values added, removed, or changed. \n",
    "     Lists use the square brackets, [ ].\n",
    "     Tuples are immutable; they cannot be changed at all.\n",
    "     Tuples are written using parentheses, ( ) "
   ]
  },
  {
   "cell_type": "code",
   "execution_count": 16,
   "id": "6da60ed1",
   "metadata": {},
   "outputs": [
    {
     "data": {
      "text/plain": [
       "(42,)"
      ]
     },
     "execution_count": 16,
     "metadata": {},
     "output_type": "execute_result"
    }
   ],
   "source": [
    "# 14. How do you type a tuple value that only contains the integer 42?\n",
    "(42,)"
   ]
  },
  {
   "cell_type": "code",
   "execution_count": 21,
   "id": "6a3d39fa",
   "metadata": {},
   "outputs": [],
   "source": [
    "a=(42,)"
   ]
  },
  {
   "cell_type": "code",
   "execution_count": 22,
   "id": "aa03e28b",
   "metadata": {},
   "outputs": [
    {
     "data": {
      "text/plain": [
       "tuple"
      ]
     },
     "execution_count": 22,
     "metadata": {},
     "output_type": "execute_result"
    }
   ],
   "source": [
    "type(a)"
   ]
  },
  {
   "cell_type": "code",
   "execution_count": null,
   "id": "6abe7b90",
   "metadata": {},
   "outputs": [],
   "source": [
    "#15. How do you get a list value's tuple form? How do you get a tuple value's list form?  \n",
    "     The tuple() and list() functions"
   ]
  },
  {
   "cell_type": "code",
   "execution_count": null,
   "id": "9780f49f",
   "metadata": {},
   "outputs": [],
   "source": [
    "#16. Variables that \"contain\" list values are not necessarily lists themselves. Instead, what do they contain?\n",
    "     They contain references to list values"
   ]
  },
  {
   "cell_type": "code",
   "execution_count": null,
   "id": "5d27ea4d",
   "metadata": {},
   "outputs": [],
   "source": [
    "# 17. How do you distinguish between copy.copy() and copy.deepcopy()? \n",
    "      Copy.copy() function will do a shallow copy of a list.\n",
    "      Copy.deepcopy() function will do a deep copy of a list. \n",
    "      That is, only copy.deepcopy() will duplicate any lists inside the list."
   ]
  }
 ],
 "metadata": {
  "kernelspec": {
   "display_name": "Python 3 (ipykernel)",
   "language": "python",
   "name": "python3"
  },
  "language_info": {
   "codemirror_mode": {
    "name": "ipython",
    "version": 3
   },
   "file_extension": ".py",
   "mimetype": "text/x-python",
   "name": "python",
   "nbconvert_exporter": "python",
   "pygments_lexer": "ipython3",
   "version": "3.9.7"
  }
 },
 "nbformat": 4,
 "nbformat_minor": 5
}
