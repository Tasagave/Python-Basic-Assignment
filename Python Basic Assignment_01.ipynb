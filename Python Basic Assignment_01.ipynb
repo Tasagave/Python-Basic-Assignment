{
 "cells": [
  {
   "cell_type": "code",
   "execution_count": null,
   "id": "6b449d9b",
   "metadata": {},
   "outputs": [],
   "source": [
    "#Q1. In the below elements which of them are values or an expression? eg:- values can be integer or string and expressions \n",
    "    will be mathematical operators. \n",
    "*       - Expressions\n",
    "\"hello\" - Values\n",
    "-87.8   - Values\n",
    "-       - Expressions\n",
    "/       - Expressions\n",
    "6       - Values"
   ]
  },
  {
   "cell_type": "code",
   "execution_count": null,
   "id": "268a4fe4",
   "metadata": {},
   "outputs": [],
   "source": [
    "#Q2. What is the difference between string and variable?\n",
    "String:- will be defined in single or Double Quotes(\" \",' '), anythig under these quotes called strings. \n",
    "Variables:- are like empty things in that we can store/assign data/value. "
   ]
  },
  {
   "cell_type": "code",
   "execution_count": null,
   "id": "4c5710f6",
   "metadata": {},
   "outputs": [],
   "source": [
    "#Q3. Describe three different data types.\n",
    "1.Integers : are purly numbers\n",
    "2.Floating point numbers : Are numbers with decimal points\n",
    "3.Strings : these are with single or double quotes"
   ]
  },
  {
   "cell_type": "code",
   "execution_count": null,
   "id": "7ff06e71",
   "metadata": {},
   "outputs": [],
   "source": [
    "#Q4. What is an expression made up of? What do all expressions do?\n",
    "- Expressions made of of Values and Operators\n",
    "- Expression always gives single output(value) at end"
   ]
  },
  {
   "cell_type": "code",
   "execution_count": null,
   "id": "b2101f8d",
   "metadata": {},
   "outputs": [],
   "source": [
    "#Q5. This assignment statements, like spam = 10. What is the difference between an expression and a statement?\n",
    "- Expression is a combination of variables,operations and values that yields a result value.\n",
    "- Statement represents an action or commands, A statments does something."
   ]
  },
  {
   "cell_type": "code",
   "execution_count": 3,
   "id": "14db4dff",
   "metadata": {},
   "outputs": [
    {
     "data": {
      "text/plain": [
       "23"
      ]
     },
     "execution_count": 3,
     "metadata": {},
     "output_type": "execute_result"
    }
   ],
   "source": [
    "#Q6. After running the following code, what does the variable bacon contain?\n",
    "bacon = 22\n",
    "bacon + 1"
   ]
  },
  {
   "cell_type": "code",
   "execution_count": 4,
   "id": "8312693f",
   "metadata": {},
   "outputs": [
    {
     "data": {
      "text/plain": [
       "22"
      ]
     },
     "execution_count": 4,
     "metadata": {},
     "output_type": "execute_result"
    }
   ],
   "source": [
    "bacon"
   ]
  },
  {
   "cell_type": "code",
   "execution_count": 5,
   "id": "e5de8f71",
   "metadata": {},
   "outputs": [
    {
     "data": {
      "text/plain": [
       "'spamspamspam'"
      ]
     },
     "execution_count": 5,
     "metadata": {},
     "output_type": "execute_result"
    }
   ],
   "source": [
    "#Q7. What should the values of the following two terms be?\n",
    "'spam' + 'spamspam'\n"
   ]
  },
  {
   "cell_type": "code",
   "execution_count": 6,
   "id": "3caa4678",
   "metadata": {},
   "outputs": [
    {
     "data": {
      "text/plain": [
       "'spamspamspam'"
      ]
     },
     "execution_count": 6,
     "metadata": {},
     "output_type": "execute_result"
    }
   ],
   "source": [
    "'spam' * 3"
   ]
  },
  {
   "cell_type": "code",
   "execution_count": null,
   "id": "ccaec1f1",
   "metadata": {},
   "outputs": [],
   "source": [
    "#Q8. Why is eggs a valid variable name while 100 is invalid?\n",
    "Variables names can not begin with numbers."
   ]
  },
  {
   "cell_type": "code",
   "execution_count": null,
   "id": "3b1483fd",
   "metadata": {},
   "outputs": [],
   "source": [
    "#Q9. What three functions can be used to get the integer, floating-point number, or string version of a value?\n",
    "Int(),  Float(), Str()"
   ]
  },
  {
   "cell_type": "code",
   "execution_count": 11,
   "id": "c5b202a5",
   "metadata": {},
   "outputs": [
    {
     "ename": "TypeError",
     "evalue": "can only concatenate str (not \"int\") to str",
     "output_type": "error",
     "traceback": [
      "\u001b[1;31m---------------------------------------------------------------------------\u001b[0m",
      "\u001b[1;31mTypeError\u001b[0m                                 Traceback (most recent call last)",
      "\u001b[1;32m~\\AppData\\Local\\Temp/ipykernel_4532/2332790332.py\u001b[0m in \u001b[0;36m<module>\u001b[1;34m\u001b[0m\n\u001b[0;32m      1\u001b[0m \u001b[1;31m#Q10. Why does this expression cause an error? How can you fix it?\u001b[0m\u001b[1;33m\u001b[0m\u001b[1;33m\u001b[0m\u001b[0m\n\u001b[1;32m----> 2\u001b[1;33m \u001b[1;34m'I have eaten '\u001b[0m \u001b[1;33m+\u001b[0m \u001b[1;36m99\u001b[0m \u001b[1;33m+\u001b[0m \u001b[1;34m' burritos'\u001b[0m\u001b[1;33m\u001b[0m\u001b[1;33m\u001b[0m\u001b[0m\n\u001b[0m",
      "\u001b[1;31mTypeError\u001b[0m: can only concatenate str (not \"int\") to str"
     ]
    }
   ],
   "source": [
    "#Q10. Why does this expression cause an error? How can you fix it?\n",
    "'I have eaten ' + 99 + ' burritos'"
   ]
  },
  {
   "cell_type": "code",
   "execution_count": null,
   "id": "602f523b",
   "metadata": {},
   "outputs": [],
   "source": [
    "Error: 99 is integer type and rest two are strings, so concatenation is not possible b/w str and int type.\n",
    "Solution: So keeping 99 under single or duble quote can fix it(Ex: '99',\"99\")"
   ]
  },
  {
   "cell_type": "code",
   "execution_count": 12,
   "id": "41a977a0",
   "metadata": {},
   "outputs": [
    {
     "data": {
      "text/plain": [
       "'I have eaten 99 burritos'"
      ]
     },
     "execution_count": 12,
     "metadata": {},
     "output_type": "execute_result"
    }
   ],
   "source": [
    "\"I have eaten \" + \"99\" + \" burritos\""
   ]
  },
  {
   "cell_type": "code",
   "execution_count": null,
   "id": "11c9f93d",
   "metadata": {},
   "outputs": [],
   "source": []
  }
 ],
 "metadata": {
  "kernelspec": {
   "display_name": "Python 3 (ipykernel)",
   "language": "python",
   "name": "python3"
  },
  "language_info": {
   "codemirror_mode": {
    "name": "ipython",
    "version": 3
   },
   "file_extension": ".py",
   "mimetype": "text/x-python",
   "name": "python",
   "nbconvert_exporter": "python",
   "pygments_lexer": "ipython3",
   "version": "3.9.7"
  }
 },
 "nbformat": 4,
 "nbformat_minor": 5
}
